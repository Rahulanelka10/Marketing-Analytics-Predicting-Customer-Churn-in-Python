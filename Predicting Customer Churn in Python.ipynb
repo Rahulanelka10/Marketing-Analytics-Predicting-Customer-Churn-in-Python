{
 "cells": [
  {
   "cell_type": "markdown",
   "id": "fe17326a",
   "metadata": {},
   "source": [
    "# Marketing Analytics: Predicting Customer Churn in Python\n",
    "\n",
    "Course Description\n",
    "\n",
    "Churn dihitung dari berapa banyak pelanggan meninggalkan bisnis Anda dalam waktu tertentu. Customer churn penting diketahui bisnis karena merupakan gambaran kesuksesan suatu bisnis dalam mempertahankan pelanggan. Churn adalah masalah umum di semua industri. Perusahaan yang dapat memprediksi churn dapat mengambil tindakan proaktif untuk mempertahankan pelanggan yang berharga dan dapat unggul dalam persaingan.\n",
    "\n",
    "Pelanggan yang membatalkan layanan karena berbagai alasan termasuk kurangnya penggunaan, layanan yang buruk, atau harga yang mahal.\n",
    "\n",
    "`Data`\n",
    "Data yang akan Anda gunakan berasal dari kumpulan data Penggunaan Seluler yang terdiri dari catatan pelanggan dan fitur Ponsel yang sebenarnya"
   ]
  },
  {
   "cell_type": "markdown",
   "id": "a02d19ea",
   "metadata": {},
   "source": [
    "# Conclusion\n",
    "`Pada Processing` Saya Drop Kolom yang tidak akan memberi Kinerja Machine learning: \n",
    "- `Area_Code`, `State`, dan\t`Phone` Karena merupakan kolom unik\n",
    "- Kolom menit telepon (`Day_Mins`, `Eve_Mins`, `Intl_Mins`dan `Night_Mins`) karena hal itu sudah mewakili kolom harga yang dikeluarkan\n",
    "- Terakhir saya drop kolom Vmail_Plan karena ini sudah mewakili Vmail_Message yang dilakukan\n",
    "\n",
    "churner tampaknya melakukan lebih banyak panggilan layanan pelanggan daripada non-churner.\n",
    "\n",
    "`Accuracy_score` Sebesar 0.940 Setelah melakukan sedikit Hyperparameter menjadi 0.943 Dan beberapa Matric Yang berubah\n",
    "\n",
    "`Feature importances` diurutan pertama ada Day_charge, Custservis_calls, Eve Charge, intl_plan, Intl Charge Night Charge, intl cals"
   ]
  },
  {
   "cell_type": "markdown",
   "id": "6e7bc0aa",
   "metadata": {},
   "source": [
    "# 1. Exploratory Data Analysis"
   ]
  },
  {
   "cell_type": "markdown",
   "id": "c6c4b3d0",
   "metadata": {},
   "source": [
    "## 1.1 Descriptive Statistics"
   ]
  },
  {
   "cell_type": "code",
   "execution_count": 1,
   "id": "14b067c1",
   "metadata": {},
   "outputs": [
    {
     "data": {
      "text/html": [
       "<div>\n",
       "<style scoped>\n",
       "    .dataframe tbody tr th:only-of-type {\n",
       "        vertical-align: middle;\n",
       "    }\n",
       "\n",
       "    .dataframe tbody tr th {\n",
       "        vertical-align: top;\n",
       "    }\n",
       "\n",
       "    .dataframe thead th {\n",
       "        text-align: right;\n",
       "    }\n",
       "</style>\n",
       "<table border=\"1\" class=\"dataframe\">\n",
       "  <thead>\n",
       "    <tr style=\"text-align: right;\">\n",
       "      <th></th>\n",
       "      <th>Account_Length</th>\n",
       "      <th>Vmail_Message</th>\n",
       "      <th>Day_Mins</th>\n",
       "      <th>Eve_Mins</th>\n",
       "      <th>Night_Mins</th>\n",
       "      <th>Intl_Mins</th>\n",
       "      <th>CustServ_Calls</th>\n",
       "      <th>Churn</th>\n",
       "      <th>Intl_Plan</th>\n",
       "      <th>Vmail_Plan</th>\n",
       "      <th>...</th>\n",
       "      <th>Day_Charge</th>\n",
       "      <th>Eve_Calls</th>\n",
       "      <th>Eve_Charge</th>\n",
       "      <th>Night_Calls</th>\n",
       "      <th>Night_Charge</th>\n",
       "      <th>Intl_Calls</th>\n",
       "      <th>Intl_Charge</th>\n",
       "      <th>State</th>\n",
       "      <th>Area_Code</th>\n",
       "      <th>Phone</th>\n",
       "    </tr>\n",
       "  </thead>\n",
       "  <tbody>\n",
       "    <tr>\n",
       "      <th>0</th>\n",
       "      <td>128</td>\n",
       "      <td>25</td>\n",
       "      <td>265.1</td>\n",
       "      <td>197.4</td>\n",
       "      <td>244.7</td>\n",
       "      <td>10.0</td>\n",
       "      <td>1</td>\n",
       "      <td>no</td>\n",
       "      <td>no</td>\n",
       "      <td>yes</td>\n",
       "      <td>...</td>\n",
       "      <td>45.07</td>\n",
       "      <td>99</td>\n",
       "      <td>16.78</td>\n",
       "      <td>91</td>\n",
       "      <td>11.01</td>\n",
       "      <td>3</td>\n",
       "      <td>2.70</td>\n",
       "      <td>KS</td>\n",
       "      <td>415</td>\n",
       "      <td>382-4657</td>\n",
       "    </tr>\n",
       "    <tr>\n",
       "      <th>1</th>\n",
       "      <td>107</td>\n",
       "      <td>26</td>\n",
       "      <td>161.6</td>\n",
       "      <td>195.5</td>\n",
       "      <td>254.4</td>\n",
       "      <td>13.7</td>\n",
       "      <td>1</td>\n",
       "      <td>no</td>\n",
       "      <td>no</td>\n",
       "      <td>yes</td>\n",
       "      <td>...</td>\n",
       "      <td>27.47</td>\n",
       "      <td>103</td>\n",
       "      <td>16.62</td>\n",
       "      <td>103</td>\n",
       "      <td>11.45</td>\n",
       "      <td>3</td>\n",
       "      <td>3.70</td>\n",
       "      <td>OH</td>\n",
       "      <td>415</td>\n",
       "      <td>371-7191</td>\n",
       "    </tr>\n",
       "    <tr>\n",
       "      <th>2</th>\n",
       "      <td>137</td>\n",
       "      <td>0</td>\n",
       "      <td>243.4</td>\n",
       "      <td>121.2</td>\n",
       "      <td>162.6</td>\n",
       "      <td>12.2</td>\n",
       "      <td>0</td>\n",
       "      <td>no</td>\n",
       "      <td>no</td>\n",
       "      <td>no</td>\n",
       "      <td>...</td>\n",
       "      <td>41.38</td>\n",
       "      <td>110</td>\n",
       "      <td>10.30</td>\n",
       "      <td>104</td>\n",
       "      <td>7.32</td>\n",
       "      <td>5</td>\n",
       "      <td>3.29</td>\n",
       "      <td>NJ</td>\n",
       "      <td>415</td>\n",
       "      <td>358-1921</td>\n",
       "    </tr>\n",
       "    <tr>\n",
       "      <th>3</th>\n",
       "      <td>84</td>\n",
       "      <td>0</td>\n",
       "      <td>299.4</td>\n",
       "      <td>61.9</td>\n",
       "      <td>196.9</td>\n",
       "      <td>6.6</td>\n",
       "      <td>2</td>\n",
       "      <td>no</td>\n",
       "      <td>yes</td>\n",
       "      <td>no</td>\n",
       "      <td>...</td>\n",
       "      <td>50.90</td>\n",
       "      <td>88</td>\n",
       "      <td>5.26</td>\n",
       "      <td>89</td>\n",
       "      <td>8.86</td>\n",
       "      <td>7</td>\n",
       "      <td>1.78</td>\n",
       "      <td>OH</td>\n",
       "      <td>408</td>\n",
       "      <td>375-9999</td>\n",
       "    </tr>\n",
       "    <tr>\n",
       "      <th>4</th>\n",
       "      <td>75</td>\n",
       "      <td>0</td>\n",
       "      <td>166.7</td>\n",
       "      <td>148.3</td>\n",
       "      <td>186.9</td>\n",
       "      <td>10.1</td>\n",
       "      <td>3</td>\n",
       "      <td>no</td>\n",
       "      <td>yes</td>\n",
       "      <td>no</td>\n",
       "      <td>...</td>\n",
       "      <td>28.34</td>\n",
       "      <td>122</td>\n",
       "      <td>12.61</td>\n",
       "      <td>121</td>\n",
       "      <td>8.41</td>\n",
       "      <td>3</td>\n",
       "      <td>2.73</td>\n",
       "      <td>OK</td>\n",
       "      <td>415</td>\n",
       "      <td>330-6626</td>\n",
       "    </tr>\n",
       "  </tbody>\n",
       "</table>\n",
       "<p>5 rows × 21 columns</p>\n",
       "</div>"
      ],
      "text/plain": [
       "   Account_Length  Vmail_Message  Day_Mins  Eve_Mins  Night_Mins  Intl_Mins  \\\n",
       "0             128             25     265.1     197.4       244.7       10.0   \n",
       "1             107             26     161.6     195.5       254.4       13.7   \n",
       "2             137              0     243.4     121.2       162.6       12.2   \n",
       "3              84              0     299.4      61.9       196.9        6.6   \n",
       "4              75              0     166.7     148.3       186.9       10.1   \n",
       "\n",
       "   CustServ_Calls Churn Intl_Plan Vmail_Plan  ...  Day_Charge  Eve_Calls  \\\n",
       "0               1    no        no        yes  ...       45.07         99   \n",
       "1               1    no        no        yes  ...       27.47        103   \n",
       "2               0    no        no         no  ...       41.38        110   \n",
       "3               2    no       yes         no  ...       50.90         88   \n",
       "4               3    no       yes         no  ...       28.34        122   \n",
       "\n",
       "   Eve_Charge  Night_Calls  Night_Charge  Intl_Calls  Intl_Charge  State  \\\n",
       "0       16.78           91         11.01           3         2.70     KS   \n",
       "1       16.62          103         11.45           3         3.70     OH   \n",
       "2       10.30          104          7.32           5         3.29     NJ   \n",
       "3        5.26           89          8.86           7         1.78     OH   \n",
       "4       12.61          121          8.41           3         2.73     OK   \n",
       "\n",
       "  Area_Code     Phone  \n",
       "0       415  382-4657  \n",
       "1       415  371-7191  \n",
       "2       415  358-1921  \n",
       "3       408  375-9999  \n",
       "4       415  330-6626  \n",
       "\n",
       "[5 rows x 21 columns]"
      ]
     },
     "execution_count": 1,
     "metadata": {},
     "output_type": "execute_result"
    }
   ],
   "source": [
    "#Import library\n",
    "import pandas as pd\n",
    "import numpy as np\n",
    "import seaborn as sns\n",
    "import matplotlib.pyplot as plt\n",
    "#Import Data\n",
    "telco = pd.read_csv('Telco Churn Dataset.csv')\n",
    "telco.head()"
   ]
  },
  {
   "cell_type": "code",
   "execution_count": 2,
   "id": "dce28265",
   "metadata": {},
   "outputs": [
    {
     "name": "stdout",
     "output_type": "stream",
     "text": [
      "<class 'pandas.core.frame.DataFrame'>\n",
      "RangeIndex: 3333 entries, 0 to 3332\n",
      "Data columns (total 21 columns):\n",
      " #   Column          Non-Null Count  Dtype  \n",
      "---  ------          --------------  -----  \n",
      " 0   Account_Length  3333 non-null   int64  \n",
      " 1   Vmail_Message   3333 non-null   int64  \n",
      " 2   Day_Mins        3333 non-null   float64\n",
      " 3   Eve_Mins        3333 non-null   float64\n",
      " 4   Night_Mins      3333 non-null   float64\n",
      " 5   Intl_Mins       3333 non-null   float64\n",
      " 6   CustServ_Calls  3333 non-null   int64  \n",
      " 7   Churn           3333 non-null   object \n",
      " 8   Intl_Plan       3333 non-null   object \n",
      " 9   Vmail_Plan      3333 non-null   object \n",
      " 10  Day_Calls       3333 non-null   int64  \n",
      " 11  Day_Charge      3333 non-null   float64\n",
      " 12  Eve_Calls       3333 non-null   int64  \n",
      " 13  Eve_Charge      3333 non-null   float64\n",
      " 14  Night_Calls     3333 non-null   int64  \n",
      " 15  Night_Charge    3333 non-null   float64\n",
      " 16  Intl_Calls      3333 non-null   int64  \n",
      " 17  Intl_Charge     3333 non-null   float64\n",
      " 18  State           3333 non-null   object \n",
      " 19  Area_Code       3333 non-null   int64  \n",
      " 20  Phone           3333 non-null   object \n",
      "dtypes: float64(8), int64(8), object(5)\n",
      "memory usage: 546.9+ KB\n"
     ]
    }
   ],
   "source": [
    "telco.info()"
   ]
  },
  {
   "cell_type": "markdown",
   "id": "d3c96027",
   "metadata": {},
   "source": [
    "- Data memiliki 3333 row dan 21 Kolom\n",
    "- Data tidak memiliki Null Value \n",
    "- phone masih dalam bentuk object"
   ]
  },
  {
   "cell_type": "code",
   "execution_count": 3,
   "id": "5bd48615",
   "metadata": {},
   "outputs": [],
   "source": [
    "cats = ['Churn', 'Intl_Plan', 'Vmail_Plan', 'State', 'Phone']\n",
    "nums = ['Account_Length', 'Vmail_Message', 'Day_Mins', 'Eve_Mins', 'Night_Mins',\n",
    "       'Intl_Mins', 'CustServ_Calls','Day_Calls', 'Day_Charge', 'Eve_Calls', \n",
    "        'Eve_Charge', 'Night_Calls', 'Night_Charge',  'Intl_Calls', 'Intl_Charge', 'Area_Code']"
   ]
  },
  {
   "cell_type": "code",
   "execution_count": 4,
   "id": "5eeb1d63",
   "metadata": {},
   "outputs": [
    {
     "data": {
      "text/html": [
       "<div>\n",
       "<style scoped>\n",
       "    .dataframe tbody tr th:only-of-type {\n",
       "        vertical-align: middle;\n",
       "    }\n",
       "\n",
       "    .dataframe tbody tr th {\n",
       "        vertical-align: top;\n",
       "    }\n",
       "\n",
       "    .dataframe thead th {\n",
       "        text-align: right;\n",
       "    }\n",
       "</style>\n",
       "<table border=\"1\" class=\"dataframe\">\n",
       "  <thead>\n",
       "    <tr style=\"text-align: right;\">\n",
       "      <th></th>\n",
       "      <th>Account_Length</th>\n",
       "      <th>Vmail_Message</th>\n",
       "      <th>Day_Mins</th>\n",
       "      <th>Eve_Mins</th>\n",
       "      <th>Night_Mins</th>\n",
       "      <th>Intl_Mins</th>\n",
       "      <th>CustServ_Calls</th>\n",
       "      <th>Day_Calls</th>\n",
       "      <th>Day_Charge</th>\n",
       "      <th>Eve_Calls</th>\n",
       "      <th>Eve_Charge</th>\n",
       "      <th>Night_Calls</th>\n",
       "      <th>Night_Charge</th>\n",
       "      <th>Intl_Calls</th>\n",
       "      <th>Intl_Charge</th>\n",
       "      <th>Area_Code</th>\n",
       "    </tr>\n",
       "  </thead>\n",
       "  <tbody>\n",
       "    <tr>\n",
       "      <th>count</th>\n",
       "      <td>3333.000000</td>\n",
       "      <td>3333.000000</td>\n",
       "      <td>3333.000000</td>\n",
       "      <td>3333.000000</td>\n",
       "      <td>3333.000000</td>\n",
       "      <td>3333.000000</td>\n",
       "      <td>3333.000000</td>\n",
       "      <td>3333.000000</td>\n",
       "      <td>3333.000000</td>\n",
       "      <td>3333.000000</td>\n",
       "      <td>3333.000000</td>\n",
       "      <td>3333.000000</td>\n",
       "      <td>3333.000000</td>\n",
       "      <td>3333.000000</td>\n",
       "      <td>3333.000000</td>\n",
       "      <td>3333.000000</td>\n",
       "    </tr>\n",
       "    <tr>\n",
       "      <th>mean</th>\n",
       "      <td>101.064806</td>\n",
       "      <td>8.099010</td>\n",
       "      <td>179.775098</td>\n",
       "      <td>200.980348</td>\n",
       "      <td>200.872037</td>\n",
       "      <td>10.237294</td>\n",
       "      <td>1.562856</td>\n",
       "      <td>100.435644</td>\n",
       "      <td>30.562307</td>\n",
       "      <td>100.114311</td>\n",
       "      <td>17.083540</td>\n",
       "      <td>100.107711</td>\n",
       "      <td>9.039325</td>\n",
       "      <td>4.479448</td>\n",
       "      <td>2.764581</td>\n",
       "      <td>437.182418</td>\n",
       "    </tr>\n",
       "    <tr>\n",
       "      <th>std</th>\n",
       "      <td>39.822106</td>\n",
       "      <td>13.688365</td>\n",
       "      <td>54.467389</td>\n",
       "      <td>50.713844</td>\n",
       "      <td>50.573847</td>\n",
       "      <td>2.791840</td>\n",
       "      <td>1.315491</td>\n",
       "      <td>20.069084</td>\n",
       "      <td>9.259435</td>\n",
       "      <td>19.922625</td>\n",
       "      <td>4.310668</td>\n",
       "      <td>19.568609</td>\n",
       "      <td>2.275873</td>\n",
       "      <td>2.461214</td>\n",
       "      <td>0.753773</td>\n",
       "      <td>42.371290</td>\n",
       "    </tr>\n",
       "    <tr>\n",
       "      <th>min</th>\n",
       "      <td>1.000000</td>\n",
       "      <td>0.000000</td>\n",
       "      <td>0.000000</td>\n",
       "      <td>0.000000</td>\n",
       "      <td>23.200000</td>\n",
       "      <td>0.000000</td>\n",
       "      <td>0.000000</td>\n",
       "      <td>0.000000</td>\n",
       "      <td>0.000000</td>\n",
       "      <td>0.000000</td>\n",
       "      <td>0.000000</td>\n",
       "      <td>33.000000</td>\n",
       "      <td>1.040000</td>\n",
       "      <td>0.000000</td>\n",
       "      <td>0.000000</td>\n",
       "      <td>408.000000</td>\n",
       "    </tr>\n",
       "    <tr>\n",
       "      <th>25%</th>\n",
       "      <td>74.000000</td>\n",
       "      <td>0.000000</td>\n",
       "      <td>143.700000</td>\n",
       "      <td>166.600000</td>\n",
       "      <td>167.000000</td>\n",
       "      <td>8.500000</td>\n",
       "      <td>1.000000</td>\n",
       "      <td>87.000000</td>\n",
       "      <td>24.430000</td>\n",
       "      <td>87.000000</td>\n",
       "      <td>14.160000</td>\n",
       "      <td>87.000000</td>\n",
       "      <td>7.520000</td>\n",
       "      <td>3.000000</td>\n",
       "      <td>2.300000</td>\n",
       "      <td>408.000000</td>\n",
       "    </tr>\n",
       "    <tr>\n",
       "      <th>50%</th>\n",
       "      <td>101.000000</td>\n",
       "      <td>0.000000</td>\n",
       "      <td>179.400000</td>\n",
       "      <td>201.400000</td>\n",
       "      <td>201.200000</td>\n",
       "      <td>10.300000</td>\n",
       "      <td>1.000000</td>\n",
       "      <td>101.000000</td>\n",
       "      <td>30.500000</td>\n",
       "      <td>100.000000</td>\n",
       "      <td>17.120000</td>\n",
       "      <td>100.000000</td>\n",
       "      <td>9.050000</td>\n",
       "      <td>4.000000</td>\n",
       "      <td>2.780000</td>\n",
       "      <td>415.000000</td>\n",
       "    </tr>\n",
       "    <tr>\n",
       "      <th>75%</th>\n",
       "      <td>127.000000</td>\n",
       "      <td>20.000000</td>\n",
       "      <td>216.400000</td>\n",
       "      <td>235.300000</td>\n",
       "      <td>235.300000</td>\n",
       "      <td>12.100000</td>\n",
       "      <td>2.000000</td>\n",
       "      <td>114.000000</td>\n",
       "      <td>36.790000</td>\n",
       "      <td>114.000000</td>\n",
       "      <td>20.000000</td>\n",
       "      <td>113.000000</td>\n",
       "      <td>10.590000</td>\n",
       "      <td>6.000000</td>\n",
       "      <td>3.270000</td>\n",
       "      <td>510.000000</td>\n",
       "    </tr>\n",
       "    <tr>\n",
       "      <th>max</th>\n",
       "      <td>243.000000</td>\n",
       "      <td>51.000000</td>\n",
       "      <td>350.800000</td>\n",
       "      <td>363.700000</td>\n",
       "      <td>395.000000</td>\n",
       "      <td>20.000000</td>\n",
       "      <td>9.000000</td>\n",
       "      <td>165.000000</td>\n",
       "      <td>59.640000</td>\n",
       "      <td>170.000000</td>\n",
       "      <td>30.910000</td>\n",
       "      <td>175.000000</td>\n",
       "      <td>17.770000</td>\n",
       "      <td>20.000000</td>\n",
       "      <td>5.400000</td>\n",
       "      <td>510.000000</td>\n",
       "    </tr>\n",
       "  </tbody>\n",
       "</table>\n",
       "</div>"
      ],
      "text/plain": [
       "       Account_Length  Vmail_Message     Day_Mins     Eve_Mins   Night_Mins  \\\n",
       "count     3333.000000    3333.000000  3333.000000  3333.000000  3333.000000   \n",
       "mean       101.064806       8.099010   179.775098   200.980348   200.872037   \n",
       "std         39.822106      13.688365    54.467389    50.713844    50.573847   \n",
       "min          1.000000       0.000000     0.000000     0.000000    23.200000   \n",
       "25%         74.000000       0.000000   143.700000   166.600000   167.000000   \n",
       "50%        101.000000       0.000000   179.400000   201.400000   201.200000   \n",
       "75%        127.000000      20.000000   216.400000   235.300000   235.300000   \n",
       "max        243.000000      51.000000   350.800000   363.700000   395.000000   \n",
       "\n",
       "         Intl_Mins  CustServ_Calls    Day_Calls   Day_Charge    Eve_Calls  \\\n",
       "count  3333.000000     3333.000000  3333.000000  3333.000000  3333.000000   \n",
       "mean     10.237294        1.562856   100.435644    30.562307   100.114311   \n",
       "std       2.791840        1.315491    20.069084     9.259435    19.922625   \n",
       "min       0.000000        0.000000     0.000000     0.000000     0.000000   \n",
       "25%       8.500000        1.000000    87.000000    24.430000    87.000000   \n",
       "50%      10.300000        1.000000   101.000000    30.500000   100.000000   \n",
       "75%      12.100000        2.000000   114.000000    36.790000   114.000000   \n",
       "max      20.000000        9.000000   165.000000    59.640000   170.000000   \n",
       "\n",
       "        Eve_Charge  Night_Calls  Night_Charge   Intl_Calls  Intl_Charge  \\\n",
       "count  3333.000000  3333.000000   3333.000000  3333.000000  3333.000000   \n",
       "mean     17.083540   100.107711      9.039325     4.479448     2.764581   \n",
       "std       4.310668    19.568609      2.275873     2.461214     0.753773   \n",
       "min       0.000000    33.000000      1.040000     0.000000     0.000000   \n",
       "25%      14.160000    87.000000      7.520000     3.000000     2.300000   \n",
       "50%      17.120000   100.000000      9.050000     4.000000     2.780000   \n",
       "75%      20.000000   113.000000     10.590000     6.000000     3.270000   \n",
       "max      30.910000   175.000000     17.770000    20.000000     5.400000   \n",
       "\n",
       "         Area_Code  \n",
       "count  3333.000000  \n",
       "mean    437.182418  \n",
       "std      42.371290  \n",
       "min     408.000000  \n",
       "25%     408.000000  \n",
       "50%     415.000000  \n",
       "75%     510.000000  \n",
       "max     510.000000  "
      ]
     },
     "execution_count": 4,
     "metadata": {},
     "output_type": "execute_result"
    }
   ],
   "source": [
    "telco.describe()"
   ]
  },
  {
   "cell_type": "code",
   "execution_count": 5,
   "id": "5387bade",
   "metadata": {},
   "outputs": [
    {
     "data": {
      "text/html": [
       "<div>\n",
       "<style scoped>\n",
       "    .dataframe tbody tr th:only-of-type {\n",
       "        vertical-align: middle;\n",
       "    }\n",
       "\n",
       "    .dataframe tbody tr th {\n",
       "        vertical-align: top;\n",
       "    }\n",
       "\n",
       "    .dataframe thead th {\n",
       "        text-align: right;\n",
       "    }\n",
       "</style>\n",
       "<table border=\"1\" class=\"dataframe\">\n",
       "  <thead>\n",
       "    <tr style=\"text-align: right;\">\n",
       "      <th></th>\n",
       "      <th>Churn</th>\n",
       "      <th>Intl_Plan</th>\n",
       "      <th>Vmail_Plan</th>\n",
       "      <th>State</th>\n",
       "      <th>Phone</th>\n",
       "    </tr>\n",
       "  </thead>\n",
       "  <tbody>\n",
       "    <tr>\n",
       "      <th>count</th>\n",
       "      <td>3333</td>\n",
       "      <td>3333</td>\n",
       "      <td>3333</td>\n",
       "      <td>3333</td>\n",
       "      <td>3333</td>\n",
       "    </tr>\n",
       "    <tr>\n",
       "      <th>unique</th>\n",
       "      <td>2</td>\n",
       "      <td>2</td>\n",
       "      <td>2</td>\n",
       "      <td>51</td>\n",
       "      <td>3333</td>\n",
       "    </tr>\n",
       "    <tr>\n",
       "      <th>top</th>\n",
       "      <td>no</td>\n",
       "      <td>no</td>\n",
       "      <td>no</td>\n",
       "      <td>WV</td>\n",
       "      <td>382-4657</td>\n",
       "    </tr>\n",
       "    <tr>\n",
       "      <th>freq</th>\n",
       "      <td>2850</td>\n",
       "      <td>3010</td>\n",
       "      <td>2411</td>\n",
       "      <td>106</td>\n",
       "      <td>1</td>\n",
       "    </tr>\n",
       "  </tbody>\n",
       "</table>\n",
       "</div>"
      ],
      "text/plain": [
       "       Churn Intl_Plan Vmail_Plan State     Phone\n",
       "count   3333      3333       3333  3333      3333\n",
       "unique     2         2          2    51      3333\n",
       "top       no        no         no    WV  382-4657\n",
       "freq    2850      3010       2411   106         1"
      ]
     },
     "execution_count": 5,
     "metadata": {},
     "output_type": "execute_result"
    }
   ],
   "source": [
    "telco[cats].describe()"
   ]
  },
  {
   "cell_type": "markdown",
   "id": "904e75c3",
   "metadata": {},
   "source": [
    "- Phone tidak akan dipakai dalam machine learning, karena merupakan unik Value, Karena tidak akan memberi insight \n",
    "- State akan dipertimbangkan kembali untuk masuk Machine learning mengingat nilai uniq nya yang banyak\n",
    "- Churn ada 483 dan nonChurn 2850"
   ]
  },
  {
   "cell_type": "markdown",
   "id": "f7b3148a",
   "metadata": {},
   "source": [
    "## 1.2 Univariate Analysis\n",
    "Setelah melakukan analisis statistik deskriptif, sekarang kita fokus pada satu-persatu kolom dengan *Univariate Analysis*"
   ]
  },
  {
   "cell_type": "code",
   "execution_count": 6,
   "id": "75d23d26",
   "metadata": {},
   "outputs": [
    {
     "name": "stderr",
     "output_type": "stream",
     "text": [
      "C:\\Users\\Rahul\\AppData\\Local\\Temp/ipykernel_316/1987597048.py:5: MatplotlibDeprecationWarning: Passing non-integers as three-element position specification is deprecated since 3.3 and will be removed two minor releases later.\n",
      "  plt.subplot(2, len(plot)/2, i+1)\n",
      "D:\\Anacondaa\\lib\\site-packages\\seaborn\\distributions.py:2619: FutureWarning: `distplot` is a deprecated function and will be removed in a future version. Please adapt your code to use either `displot` (a figure-level function with similar flexibility) or `histplot` (an axes-level function for histograms).\n",
      "  warnings.warn(msg, FutureWarning)\n",
      "C:\\Users\\Rahul\\AppData\\Local\\Temp/ipykernel_316/1987597048.py:5: MatplotlibDeprecationWarning: Passing non-integers as three-element position specification is deprecated since 3.3 and will be removed two minor releases later.\n",
      "  plt.subplot(2, len(plot)/2, i+1)\n",
      "D:\\Anacondaa\\lib\\site-packages\\seaborn\\distributions.py:2619: FutureWarning: `distplot` is a deprecated function and will be removed in a future version. Please adapt your code to use either `displot` (a figure-level function with similar flexibility) or `histplot` (an axes-level function for histograms).\n",
      "  warnings.warn(msg, FutureWarning)\n",
      "C:\\Users\\Rahul\\AppData\\Local\\Temp/ipykernel_316/1987597048.py:5: MatplotlibDeprecationWarning: Passing non-integers as three-element position specification is deprecated since 3.3 and will be removed two minor releases later.\n",
      "  plt.subplot(2, len(plot)/2, i+1)\n",
      "D:\\Anacondaa\\lib\\site-packages\\seaborn\\distributions.py:2619: FutureWarning: `distplot` is a deprecated function and will be removed in a future version. Please adapt your code to use either `displot` (a figure-level function with similar flexibility) or `histplot` (an axes-level function for histograms).\n",
      "  warnings.warn(msg, FutureWarning)\n",
      "C:\\Users\\Rahul\\AppData\\Local\\Temp/ipykernel_316/1987597048.py:5: MatplotlibDeprecationWarning: Passing non-integers as three-element position specification is deprecated since 3.3 and will be removed two minor releases later.\n",
      "  plt.subplot(2, len(plot)/2, i+1)\n",
      "D:\\Anacondaa\\lib\\site-packages\\seaborn\\distributions.py:2619: FutureWarning: `distplot` is a deprecated function and will be removed in a future version. Please adapt your code to use either `displot` (a figure-level function with similar flexibility) or `histplot` (an axes-level function for histograms).\n",
      "  warnings.warn(msg, FutureWarning)\n"
     ]
    },
    {
     "data": {
      "image/png": "[encoded data removed]",
      "text/plain": [
       "<Figure size 864x864 with 4 Axes>"
      ]
     },
     "metadata": {
      "needs_background": "light"
     },
     "output_type": "display_data"
    }
   ],
   "source": [
    "plot = ['Day_Mins', 'Eve_Mins', 'Night_Mins', 'Intl_Mins']\n",
    "\n",
    "plt.figure(figsize=(12, 12))\n",
    "for i in range(0, len(plot)):\n",
    "    plt.subplot(2, len(plot)/2, i+1)\n",
    "    sns.distplot(telco[plot[i]], color='gray')\n",
    "    plt.tight_layout()"
   ]
  },
  {
   "cell_type": "markdown",
   "id": "7aec3e7c",
   "metadata": {},
   "source": [
    "fitur memiliki distribusi normal. Jika tidak demikian, kita harus mempertimbangkan untuk menerapkan semacam fitur transformasi."
   ]
  },
  {
   "cell_type": "markdown",
   "id": "9ff7229c",
   "metadata": {},
   "source": [
    "## 1.3 Multivariate Analysis"
   ]
  },
  {
   "cell_type": "code",
   "execution_count": 7,
   "id": "93250bb0",
   "metadata": {},
   "outputs": [
    {
     "data": {
      "text/plain": [
       "<AxesSubplot:>"
      ]
     },
     "execution_count": 7,
     "metadata": {},
     "output_type": "execute_result"
    },
    {
     "data": {
      "image/png": "[encoded data removed]",
      "text/plain": [
       "<Figure size 1080x576 with 2 Axes>"
      ]
     },
     "metadata": {
      "needs_background": "light"
     },
     "output_type": "display_data"
    }
   ],
   "source": [
    "# untuk memudahkan Visualisasi korelasi antar kolom dengan sns.heatmap(df.corr()\n",
    "plt.figure(figsize=(15, 8))\n",
    "sns.heatmap(telco.corr(), cmap='Blues', annot=True, fmt='.2f')"
   ]
  },
  {
   "cell_type": "markdown",
   "id": "55cd1634",
   "metadata": {},
   "source": [
    "- Pada Univariate Analysis kita melihat bahwa ada 4 pasangan memiliki korelasi sangat kuat (1)\n",
    "Dimana biaya dan lama telpon pada panggilan siang, sore, malam, dan internasional"
   ]
  },
  {
   "cell_type": "markdown",
   "id": "9f4a3cc2",
   "metadata": {},
   "source": [
    "## churners VS non-churners"
   ]
  },
  {
   "cell_type": "code",
   "execution_count": 8,
   "id": "2e1c29f4",
   "metadata": {},
   "outputs": [
    {
     "data": {
      "image/png": "[encoded data removed]",
      "text/plain": [
       "<Figure size 432x288 with 1 Axes>"
      ]
     },
     "metadata": {
      "needs_background": "light"
     },
     "output_type": "display_data"
    }
   ],
   "source": [
    "#Differences in account length\n",
    "sns.boxplot(x = 'Churn',\n",
    "            y = 'Account_Length',\n",
    "            data = telco)\n",
    "plt.show()"
   ]
  },
  {
   "cell_type": "markdown",
   "id": "dbd5aec0",
   "metadata": {},
   "source": [
    "tampaknya tidak ada perbedaan mencolok dalam panjang akun."
   ]
  },
  {
   "cell_type": "code",
   "execution_count": 9,
   "id": "402c40ab",
   "metadata": {},
   "outputs": [
    {
     "data": {
      "image/png": "[encoded data removed]",
      "text/plain": [
       "<Figure size 432x288 with 1 Axes>"
      ]
     },
     "metadata": {
      "needs_background": "light"
     },
     "output_type": "display_data"
    }
   ],
   "source": [
    "# Create the box plot\n",
    "sns.boxplot(x = 'Churn',\n",
    "          y = 'CustServ_Calls',\n",
    "          data = telco)\n",
    "\n",
    "# Display the plot\n",
    "plt.show()"
   ]
  },
  {
   "cell_type": "markdown",
   "id": "81a3bdaa",
   "metadata": {},
   "source": [
    "pelanggan yang melakukan churn akhirnya meninggalkan lebih banyak panggilan layanan pelanggan, kecuali pelanggan ini juga memiliki paket internasional, dalam hal ini mereka meninggalkan lebih sedikit panggilan layanan pelanggan. "
   ]
  },
  {
   "cell_type": "code",
   "execution_count": 10,
   "id": "ca48fb1f",
   "metadata": {},
   "outputs": [
    {
     "data": {
      "image/png": "[encoded data removed]",
      "text/plain": [
       "<Figure size 432x288 with 1 Axes>"
      ]
     },
     "metadata": {
      "needs_background": "light"
     },
     "output_type": "display_data"
    }
   ],
   "source": [
    "# Add \"Vmail_Plan\" as a third variable\n",
    "sns.boxplot(x = 'Churn',\n",
    "            y = 'CustServ_Calls',\n",
    "            data = telco,\n",
    "            sym = \"\",\n",
    "            hue = \"Vmail_Plan\")\n",
    "# Display the plot\n",
    "plt.show()"
   ]
  },
  {
   "cell_type": "code",
   "execution_count": 11,
   "id": "2e22168a",
   "metadata": {},
   "outputs": [
    {
     "data": {
      "image/png": "[encoded data removed]",
      "text/plain": [
       "<Figure size 432x288 with 1 Axes>"
      ]
     },
     "metadata": {
      "needs_background": "light"
     },
     "output_type": "display_data"
    }
   ],
   "source": [
    "# Add \"Intl_Plan\" as a third variable\n",
    "sns.boxplot(x = 'Churn',\n",
    "            y = 'CustServ_Calls',\n",
    "            data = telco,\n",
    "            sym = \"\",\n",
    "            hue = \"Intl_Plan\")\n",
    "\n",
    "# Display the plot\n",
    "plt.show()"
   ]
  },
  {
   "cell_type": "code",
   "execution_count": 12,
   "id": "9a4fb684",
   "metadata": {},
   "outputs": [
    {
     "data": {
      "text/html": [
       "<div>\n",
       "<style scoped>\n",
       "    .dataframe tbody tr th:only-of-type {\n",
       "        vertical-align: middle;\n",
       "    }\n",
       "\n",
       "    .dataframe tbody tr th {\n",
       "        vertical-align: top;\n",
       "    }\n",
       "\n",
       "    .dataframe thead th {\n",
       "        text-align: right;\n",
       "    }\n",
       "</style>\n",
       "<table border=\"1\" class=\"dataframe\">\n",
       "  <thead>\n",
       "    <tr style=\"text-align: right;\">\n",
       "      <th></th>\n",
       "      <th>Account_Length</th>\n",
       "      <th>Vmail_Message</th>\n",
       "      <th>Day_Mins</th>\n",
       "      <th>Eve_Mins</th>\n",
       "      <th>Night_Mins</th>\n",
       "      <th>Intl_Mins</th>\n",
       "      <th>CustServ_Calls</th>\n",
       "      <th>Day_Calls</th>\n",
       "      <th>Day_Charge</th>\n",
       "      <th>Eve_Calls</th>\n",
       "      <th>Eve_Charge</th>\n",
       "      <th>Night_Calls</th>\n",
       "      <th>Night_Charge</th>\n",
       "      <th>Intl_Calls</th>\n",
       "      <th>Intl_Charge</th>\n",
       "      <th>Area_Code</th>\n",
       "    </tr>\n",
       "    <tr>\n",
       "      <th>Churn</th>\n",
       "      <th></th>\n",
       "      <th></th>\n",
       "      <th></th>\n",
       "      <th></th>\n",
       "      <th></th>\n",
       "      <th></th>\n",
       "      <th></th>\n",
       "      <th></th>\n",
       "      <th></th>\n",
       "      <th></th>\n",
       "      <th></th>\n",
       "      <th></th>\n",
       "      <th></th>\n",
       "      <th></th>\n",
       "      <th></th>\n",
       "      <th></th>\n",
       "    </tr>\n",
       "  </thead>\n",
       "  <tbody>\n",
       "    <tr>\n",
       "      <th>no</th>\n",
       "      <td>100.793684</td>\n",
       "      <td>8.604561</td>\n",
       "      <td>175.175754</td>\n",
       "      <td>199.043298</td>\n",
       "      <td>200.133193</td>\n",
       "      <td>10.158877</td>\n",
       "      <td>1.449825</td>\n",
       "      <td>100.283158</td>\n",
       "      <td>29.780421</td>\n",
       "      <td>100.038596</td>\n",
       "      <td>16.918909</td>\n",
       "      <td>100.058246</td>\n",
       "      <td>9.006074</td>\n",
       "      <td>4.532982</td>\n",
       "      <td>2.743404</td>\n",
       "      <td>437.074737</td>\n",
       "    </tr>\n",
       "    <tr>\n",
       "      <th>yes</th>\n",
       "      <td>102.664596</td>\n",
       "      <td>5.115942</td>\n",
       "      <td>206.914079</td>\n",
       "      <td>212.410145</td>\n",
       "      <td>205.231677</td>\n",
       "      <td>10.700000</td>\n",
       "      <td>2.229814</td>\n",
       "      <td>101.335404</td>\n",
       "      <td>35.175921</td>\n",
       "      <td>100.561077</td>\n",
       "      <td>18.054969</td>\n",
       "      <td>100.399586</td>\n",
       "      <td>9.235528</td>\n",
       "      <td>4.163561</td>\n",
       "      <td>2.889545</td>\n",
       "      <td>437.817805</td>\n",
       "    </tr>\n",
       "  </tbody>\n",
       "</table>\n",
       "</div>"
      ],
      "text/plain": [
       "       Account_Length  Vmail_Message    Day_Mins    Eve_Mins  Night_Mins  \\\n",
       "Churn                                                                      \n",
       "no         100.793684       8.604561  175.175754  199.043298  200.133193   \n",
       "yes        102.664596       5.115942  206.914079  212.410145  205.231677   \n",
       "\n",
       "       Intl_Mins  CustServ_Calls   Day_Calls  Day_Charge   Eve_Calls  \\\n",
       "Churn                                                                  \n",
       "no     10.158877        1.449825  100.283158   29.780421  100.038596   \n",
       "yes    10.700000        2.229814  101.335404   35.175921  100.561077   \n",
       "\n",
       "       Eve_Charge  Night_Calls  Night_Charge  Intl_Calls  Intl_Charge  \\\n",
       "Churn                                                                   \n",
       "no      16.918909   100.058246      9.006074    4.532982     2.743404   \n",
       "yes     18.054969   100.399586      9.235528    4.163561     2.889545   \n",
       "\n",
       "        Area_Code  \n",
       "Churn              \n",
       "no     437.074737  \n",
       "yes    437.817805  "
      ]
     },
     "execution_count": 12,
     "metadata": {},
     "output_type": "execute_result"
    }
   ],
   "source": [
    "# Ringkasan statistik untuk kedua kelas\n",
    "# Group telco by 'Churn' and compute the mean\n",
    "telco.groupby(['Churn']).mean()"
   ]
  },
  {
   "cell_type": "code",
   "execution_count": 13,
   "id": "de4416d2",
   "metadata": {},
   "outputs": [
    {
     "data": {
      "text/html": [
       "<div>\n",
       "<style scoped>\n",
       "    .dataframe tbody tr th:only-of-type {\n",
       "        vertical-align: middle;\n",
       "    }\n",
       "\n",
       "    .dataframe tbody tr th {\n",
       "        vertical-align: top;\n",
       "    }\n",
       "\n",
       "    .dataframe thead th {\n",
       "        text-align: right;\n",
       "    }\n",
       "</style>\n",
       "<table border=\"1\" class=\"dataframe\">\n",
       "  <thead>\n",
       "    <tr style=\"text-align: right;\">\n",
       "      <th></th>\n",
       "      <th>Account_Length</th>\n",
       "      <th>Vmail_Message</th>\n",
       "      <th>Day_Mins</th>\n",
       "      <th>Eve_Mins</th>\n",
       "      <th>Night_Mins</th>\n",
       "      <th>Intl_Mins</th>\n",
       "      <th>CustServ_Calls</th>\n",
       "      <th>Day_Calls</th>\n",
       "      <th>Day_Charge</th>\n",
       "      <th>Eve_Calls</th>\n",
       "      <th>Eve_Charge</th>\n",
       "      <th>Night_Calls</th>\n",
       "      <th>Night_Charge</th>\n",
       "      <th>Intl_Calls</th>\n",
       "      <th>Intl_Charge</th>\n",
       "      <th>Area_Code</th>\n",
       "    </tr>\n",
       "    <tr>\n",
       "      <th>Churn</th>\n",
       "      <th></th>\n",
       "      <th></th>\n",
       "      <th></th>\n",
       "      <th></th>\n",
       "      <th></th>\n",
       "      <th></th>\n",
       "      <th></th>\n",
       "      <th></th>\n",
       "      <th></th>\n",
       "      <th></th>\n",
       "      <th></th>\n",
       "      <th></th>\n",
       "      <th></th>\n",
       "      <th></th>\n",
       "      <th></th>\n",
       "      <th></th>\n",
       "    </tr>\n",
       "  </thead>\n",
       "  <tbody>\n",
       "    <tr>\n",
       "      <th>no</th>\n",
       "      <td>39.88235</td>\n",
       "      <td>13.913125</td>\n",
       "      <td>50.181655</td>\n",
       "      <td>50.292175</td>\n",
       "      <td>51.105032</td>\n",
       "      <td>2.784489</td>\n",
       "      <td>1.163883</td>\n",
       "      <td>19.801157</td>\n",
       "      <td>8.530835</td>\n",
       "      <td>19.958414</td>\n",
       "      <td>4.274863</td>\n",
       "      <td>19.506246</td>\n",
       "      <td>2.299768</td>\n",
       "      <td>2.441984</td>\n",
       "      <td>0.751784</td>\n",
       "      <td>42.306156</td>\n",
       "    </tr>\n",
       "    <tr>\n",
       "      <th>yes</th>\n",
       "      <td>39.46782</td>\n",
       "      <td>11.860138</td>\n",
       "      <td>68.997792</td>\n",
       "      <td>51.728910</td>\n",
       "      <td>47.132825</td>\n",
       "      <td>2.793190</td>\n",
       "      <td>1.853275</td>\n",
       "      <td>21.582307</td>\n",
       "      <td>11.729710</td>\n",
       "      <td>19.724711</td>\n",
       "      <td>4.396762</td>\n",
       "      <td>19.950659</td>\n",
       "      <td>2.121081</td>\n",
       "      <td>2.551575</td>\n",
       "      <td>0.754152</td>\n",
       "      <td>42.792270</td>\n",
       "    </tr>\n",
       "  </tbody>\n",
       "</table>\n",
       "</div>"
      ],
      "text/plain": [
       "       Account_Length  Vmail_Message   Day_Mins   Eve_Mins  Night_Mins  \\\n",
       "Churn                                                                    \n",
       "no           39.88235      13.913125  50.181655  50.292175   51.105032   \n",
       "yes          39.46782      11.860138  68.997792  51.728910   47.132825   \n",
       "\n",
       "       Intl_Mins  CustServ_Calls  Day_Calls  Day_Charge  Eve_Calls  \\\n",
       "Churn                                                                \n",
       "no      2.784489        1.163883  19.801157    8.530835  19.958414   \n",
       "yes     2.793190        1.853275  21.582307   11.729710  19.724711   \n",
       "\n",
       "       Eve_Charge  Night_Calls  Night_Charge  Intl_Calls  Intl_Charge  \\\n",
       "Churn                                                                   \n",
       "no       4.274863    19.506246      2.299768    2.441984     0.751784   \n",
       "yes      4.396762    19.950659      2.121081    2.551575     0.754152   \n",
       "\n",
       "       Area_Code  \n",
       "Churn             \n",
       "no     42.306156  \n",
       "yes    42.792270  "
      ]
     },
     "execution_count": 13,
     "metadata": {},
     "output_type": "execute_result"
    }
   ],
   "source": [
    "#  standard deviation\n",
    "telco.groupby(['Churn']).std()"
   ]
  },
  {
   "cell_type": "markdown",
   "id": "2fd0e28d",
   "metadata": {},
   "source": [
    "- churner tampaknya melakukan lebih banyak panggilan layanan pelanggan daripada non-churner."
   ]
  },
  {
   "cell_type": "markdown",
   "id": "ddcb2ac6",
   "metadata": {},
   "source": [
    "# 2. Data Preprocessing \n",
    "setelah melakukan analisis eksplorasi dan memiliki pemahaman yang lebih baik tentang kumpulan data, saatnya memprosesnya data untuk persiapan pemodelan.\n",
    "- membuang data yang tidak diperlukan\n",
    "- handling null value\n",
    "- handling data distributed (feature scalling)\n",
    "- handling categorical variables as numeric (One Hot encoding)"
   ]
  },
  {
   "cell_type": "markdown",
   "id": "98c89a8d",
   "metadata": {},
   "source": [
    "## 2.1 Encoding binary features"
   ]
  },
  {
   "cell_type": "code",
   "execution_count": 14,
   "id": "7fa9e88d",
   "metadata": {},
   "outputs": [
    {
     "data": {
      "text/html": [
       "<div>\n",
       "<style scoped>\n",
       "    .dataframe tbody tr th:only-of-type {\n",
       "        vertical-align: middle;\n",
       "    }\n",
       "\n",
       "    .dataframe tbody tr th {\n",
       "        vertical-align: top;\n",
       "    }\n",
       "\n",
       "    .dataframe thead th {\n",
       "        text-align: right;\n",
       "    }\n",
       "</style>\n",
       "<table border=\"1\" class=\"dataframe\">\n",
       "  <thead>\n",
       "    <tr style=\"text-align: right;\">\n",
       "      <th></th>\n",
       "      <th>Churn</th>\n",
       "      <th>Intl_Plan</th>\n",
       "      <th>Vmail_Plan</th>\n",
       "      <th>State</th>\n",
       "      <th>Phone</th>\n",
       "    </tr>\n",
       "  </thead>\n",
       "  <tbody>\n",
       "    <tr>\n",
       "      <th>count</th>\n",
       "      <td>3333</td>\n",
       "      <td>3333</td>\n",
       "      <td>3333</td>\n",
       "      <td>3333</td>\n",
       "      <td>3333</td>\n",
       "    </tr>\n",
       "    <tr>\n",
       "      <th>unique</th>\n",
       "      <td>2</td>\n",
       "      <td>2</td>\n",
       "      <td>2</td>\n",
       "      <td>51</td>\n",
       "      <td>3333</td>\n",
       "    </tr>\n",
       "    <tr>\n",
       "      <th>top</th>\n",
       "      <td>no</td>\n",
       "      <td>no</td>\n",
       "      <td>no</td>\n",
       "      <td>WV</td>\n",
       "      <td>382-4657</td>\n",
       "    </tr>\n",
       "    <tr>\n",
       "      <th>freq</th>\n",
       "      <td>2850</td>\n",
       "      <td>3010</td>\n",
       "      <td>2411</td>\n",
       "      <td>106</td>\n",
       "      <td>1</td>\n",
       "    </tr>\n",
       "  </tbody>\n",
       "</table>\n",
       "</div>"
      ],
      "text/plain": [
       "       Churn Intl_Plan Vmail_Plan State     Phone\n",
       "count   3333      3333       3333  3333      3333\n",
       "unique     2         2          2    51      3333\n",
       "top       no        no         no    WV  382-4657\n",
       "freq    2850      3010       2411   106         1"
      ]
     },
     "execution_count": 14,
     "metadata": {},
     "output_type": "execute_result"
    }
   ],
   "source": [
    "telco[cats].describe()"
   ]
  },
  {
   "cell_type": "markdown",
   "id": "cb18f8a4",
   "metadata": {},
   "source": [
    "Kolom `Churn, Intl_Plan, dan Vmail_Plan` merupakan kolom binner\n",
    "Sementara  state dan phone saya drop"
   ]
  },
  {
   "cell_type": "code",
   "execution_count": 15,
   "id": "4f3bcf05",
   "metadata": {},
   "outputs": [
    {
     "data": {
      "text/html": [
       "<div>\n",
       "<style scoped>\n",
       "    .dataframe tbody tr th:only-of-type {\n",
       "        vertical-align: middle;\n",
       "    }\n",
       "\n",
       "    .dataframe tbody tr th {\n",
       "        vertical-align: top;\n",
       "    }\n",
       "\n",
       "    .dataframe thead th {\n",
       "        text-align: right;\n",
       "    }\n",
       "</style>\n",
       "<table border=\"1\" class=\"dataframe\">\n",
       "  <thead>\n",
       "    <tr style=\"text-align: right;\">\n",
       "      <th></th>\n",
       "      <th>Account_Length</th>\n",
       "      <th>Vmail_Message</th>\n",
       "      <th>Day_Mins</th>\n",
       "      <th>Eve_Mins</th>\n",
       "      <th>Night_Mins</th>\n",
       "      <th>Intl_Mins</th>\n",
       "      <th>CustServ_Calls</th>\n",
       "      <th>Churn</th>\n",
       "      <th>Intl_Plan</th>\n",
       "      <th>Vmail_Plan</th>\n",
       "      <th>...</th>\n",
       "      <th>Day_Charge</th>\n",
       "      <th>Eve_Calls</th>\n",
       "      <th>Eve_Charge</th>\n",
       "      <th>Night_Calls</th>\n",
       "      <th>Night_Charge</th>\n",
       "      <th>Intl_Calls</th>\n",
       "      <th>Intl_Charge</th>\n",
       "      <th>State</th>\n",
       "      <th>Area_Code</th>\n",
       "      <th>Phone</th>\n",
       "    </tr>\n",
       "  </thead>\n",
       "  <tbody>\n",
       "    <tr>\n",
       "      <th>0</th>\n",
       "      <td>128</td>\n",
       "      <td>25</td>\n",
       "      <td>265.1</td>\n",
       "      <td>197.4</td>\n",
       "      <td>244.7</td>\n",
       "      <td>10.0</td>\n",
       "      <td>1</td>\n",
       "      <td>0</td>\n",
       "      <td>0</td>\n",
       "      <td>1</td>\n",
       "      <td>...</td>\n",
       "      <td>45.07</td>\n",
       "      <td>99</td>\n",
       "      <td>16.78</td>\n",
       "      <td>91</td>\n",
       "      <td>11.01</td>\n",
       "      <td>3</td>\n",
       "      <td>2.70</td>\n",
       "      <td>KS</td>\n",
       "      <td>415</td>\n",
       "      <td>382-4657</td>\n",
       "    </tr>\n",
       "    <tr>\n",
       "      <th>1</th>\n",
       "      <td>107</td>\n",
       "      <td>26</td>\n",
       "      <td>161.6</td>\n",
       "      <td>195.5</td>\n",
       "      <td>254.4</td>\n",
       "      <td>13.7</td>\n",
       "      <td>1</td>\n",
       "      <td>0</td>\n",
       "      <td>0</td>\n",
       "      <td>1</td>\n",
       "      <td>...</td>\n",
       "      <td>27.47</td>\n",
       "      <td>103</td>\n",
       "      <td>16.62</td>\n",
       "      <td>103</td>\n",
       "      <td>11.45</td>\n",
       "      <td>3</td>\n",
       "      <td>3.70</td>\n",
       "      <td>OH</td>\n",
       "      <td>415</td>\n",
       "      <td>371-7191</td>\n",
       "    </tr>\n",
       "    <tr>\n",
       "      <th>2</th>\n",
       "      <td>137</td>\n",
       "      <td>0</td>\n",
       "      <td>243.4</td>\n",
       "      <td>121.2</td>\n",
       "      <td>162.6</td>\n",
       "      <td>12.2</td>\n",
       "      <td>0</td>\n",
       "      <td>0</td>\n",
       "      <td>0</td>\n",
       "      <td>0</td>\n",
       "      <td>...</td>\n",
       "      <td>41.38</td>\n",
       "      <td>110</td>\n",
       "      <td>10.30</td>\n",
       "      <td>104</td>\n",
       "      <td>7.32</td>\n",
       "      <td>5</td>\n",
       "      <td>3.29</td>\n",
       "      <td>NJ</td>\n",
       "      <td>415</td>\n",
       "      <td>358-1921</td>\n",
       "    </tr>\n",
       "    <tr>\n",
       "      <th>3</th>\n",
       "      <td>84</td>\n",
       "      <td>0</td>\n",
       "      <td>299.4</td>\n",
       "      <td>61.9</td>\n",
       "      <td>196.9</td>\n",
       "      <td>6.6</td>\n",
       "      <td>2</td>\n",
       "      <td>0</td>\n",
       "      <td>1</td>\n",
       "      <td>0</td>\n",
       "      <td>...</td>\n",
       "      <td>50.90</td>\n",
       "      <td>88</td>\n",
       "      <td>5.26</td>\n",
       "      <td>89</td>\n",
       "      <td>8.86</td>\n",
       "      <td>7</td>\n",
       "      <td>1.78</td>\n",
       "      <td>OH</td>\n",
       "      <td>408</td>\n",
       "      <td>375-9999</td>\n",
       "    </tr>\n",
       "    <tr>\n",
       "      <th>4</th>\n",
       "      <td>75</td>\n",
       "      <td>0</td>\n",
       "      <td>166.7</td>\n",
       "      <td>148.3</td>\n",
       "      <td>186.9</td>\n",
       "      <td>10.1</td>\n",
       "      <td>3</td>\n",
       "      <td>0</td>\n",
       "      <td>1</td>\n",
       "      <td>0</td>\n",
       "      <td>...</td>\n",
       "      <td>28.34</td>\n",
       "      <td>122</td>\n",
       "      <td>12.61</td>\n",
       "      <td>121</td>\n",
       "      <td>8.41</td>\n",
       "      <td>3</td>\n",
       "      <td>2.73</td>\n",
       "      <td>OK</td>\n",
       "      <td>415</td>\n",
       "      <td>330-6626</td>\n",
       "    </tr>\n",
       "  </tbody>\n",
       "</table>\n",
       "<p>5 rows × 21 columns</p>\n",
       "</div>"
      ],
      "text/plain": [
       "   Account_Length  Vmail_Message  Day_Mins  Eve_Mins  Night_Mins  Intl_Mins  \\\n",
       "0             128             25     265.1     197.4       244.7       10.0   \n",
       "1             107             26     161.6     195.5       254.4       13.7   \n",
       "2             137              0     243.4     121.2       162.6       12.2   \n",
       "3              84              0     299.4      61.9       196.9        6.6   \n",
       "4              75              0     166.7     148.3       186.9       10.1   \n",
       "\n",
       "   CustServ_Calls  Churn  Intl_Plan  Vmail_Plan  ...  Day_Charge  Eve_Calls  \\\n",
       "0               1      0          0           1  ...       45.07         99   \n",
       "1               1      0          0           1  ...       27.47        103   \n",
       "2               0      0          0           0  ...       41.38        110   \n",
       "3               2      0          1           0  ...       50.90         88   \n",
       "4               3      0          1           0  ...       28.34        122   \n",
       "\n",
       "   Eve_Charge  Night_Calls  Night_Charge  Intl_Calls  Intl_Charge  State  \\\n",
       "0       16.78           91         11.01           3         2.70     KS   \n",
       "1       16.62          103         11.45           3         3.70     OH   \n",
       "2       10.30          104          7.32           5         3.29     NJ   \n",
       "3        5.26           89          8.86           7         1.78     OH   \n",
       "4       12.61          121          8.41           3         2.73     OK   \n",
       "\n",
       "  Area_Code     Phone  \n",
       "0       415  382-4657  \n",
       "1       415  371-7191  \n",
       "2       415  358-1921  \n",
       "3       408  375-9999  \n",
       "4       415  330-6626  \n",
       "\n",
       "[5 rows x 21 columns]"
      ]
     },
     "execution_count": 15,
     "metadata": {},
     "output_type": "execute_result"
    }
   ],
   "source": [
    "# Replace 'no' with 0 and 'yes' with 1 in 'Vmail_Plan'\n",
    "telco['Vmail_Plan'] = telco['Vmail_Plan'].replace({'no':0 , 'yes':1})\n",
    "\n",
    "# Replace 'no' with 0 and 'yes' with 1 in 'Churn'\n",
    "telco['Churn'] = telco['Churn'].replace({'no':0 , 'yes':1})\n",
    "\n",
    "# Replace 'no' with 0 and 'yes' with 1 in 'Intl_Plan'\n",
    "telco['Intl_Plan'] = telco['Intl_Plan'].replace({'no':0 , 'yes':1})\n",
    "\n",
    "# Print the results to verify\n",
    "telco.head()"
   ]
  },
  {
   "cell_type": "code",
   "execution_count": 16,
   "id": "62db2f33",
   "metadata": {},
   "outputs": [
    {
     "data": {
      "text/plain": [
       "<AxesSubplot:>"
      ]
     },
     "execution_count": 16,
     "metadata": {},
     "output_type": "execute_result"
    },
    {
     "data": {
      "image/png": "[encoded data removed]",
      "text/plain": [
       "<Figure size 1080x576 with 2 Axes>"
      ]
     },
     "metadata": {
      "needs_background": "light"
     },
     "output_type": "display_data"
    }
   ],
   "source": [
    "# untuk memudahkan Visualisasi korelasi antar kolom dengan sns.heatmap(df.corr()\n",
    "plt.figure(figsize=(15, 8))\n",
    "sns.heatmap(telco.corr(), cmap='Blues', annot=True, fmt='.2f')"
   ]
  },
  {
   "cell_type": "markdown",
   "id": "2491e3c9",
   "metadata": {},
   "source": [
    "## feature selection"
   ]
  },
  {
   "cell_type": "code",
   "execution_count": 17,
   "id": "093fd9fb",
   "metadata": {},
   "outputs": [
    {
     "data": {
      "text/html": [
       "<div>\n",
       "<style scoped>\n",
       "    .dataframe tbody tr th:only-of-type {\n",
       "        vertical-align: middle;\n",
       "    }\n",
       "\n",
       "    .dataframe tbody tr th {\n",
       "        vertical-align: top;\n",
       "    }\n",
       "\n",
       "    .dataframe thead th {\n",
       "        text-align: right;\n",
       "    }\n",
       "</style>\n",
       "<table border=\"1\" class=\"dataframe\">\n",
       "  <thead>\n",
       "    <tr style=\"text-align: right;\">\n",
       "      <th></th>\n",
       "      <th>Day_Charge</th>\n",
       "      <th>Day_Mins</th>\n",
       "      <th>Eve_Charge</th>\n",
       "      <th>Eve_Mins</th>\n",
       "      <th>Intl_Charge</th>\n",
       "      <th>Intl_Mins</th>\n",
       "      <th>Night_Charge</th>\n",
       "      <th>Night_Mins</th>\n",
       "    </tr>\n",
       "  </thead>\n",
       "  <tbody>\n",
       "    <tr>\n",
       "      <th>0</th>\n",
       "      <td>45.07</td>\n",
       "      <td>265.1</td>\n",
       "      <td>16.78</td>\n",
       "      <td>197.4</td>\n",
       "      <td>2.70</td>\n",
       "      <td>10.0</td>\n",
       "      <td>11.01</td>\n",
       "      <td>244.7</td>\n",
       "    </tr>\n",
       "    <tr>\n",
       "      <th>1</th>\n",
       "      <td>27.47</td>\n",
       "      <td>161.6</td>\n",
       "      <td>16.62</td>\n",
       "      <td>195.5</td>\n",
       "      <td>3.70</td>\n",
       "      <td>13.7</td>\n",
       "      <td>11.45</td>\n",
       "      <td>254.4</td>\n",
       "    </tr>\n",
       "    <tr>\n",
       "      <th>2</th>\n",
       "      <td>41.38</td>\n",
       "      <td>243.4</td>\n",
       "      <td>10.30</td>\n",
       "      <td>121.2</td>\n",
       "      <td>3.29</td>\n",
       "      <td>12.2</td>\n",
       "      <td>7.32</td>\n",
       "      <td>162.6</td>\n",
       "    </tr>\n",
       "    <tr>\n",
       "      <th>3</th>\n",
       "      <td>50.90</td>\n",
       "      <td>299.4</td>\n",
       "      <td>5.26</td>\n",
       "      <td>61.9</td>\n",
       "      <td>1.78</td>\n",
       "      <td>6.6</td>\n",
       "      <td>8.86</td>\n",
       "      <td>196.9</td>\n",
       "    </tr>\n",
       "    <tr>\n",
       "      <th>4</th>\n",
       "      <td>28.34</td>\n",
       "      <td>166.7</td>\n",
       "      <td>12.61</td>\n",
       "      <td>148.3</td>\n",
       "      <td>2.73</td>\n",
       "      <td>10.1</td>\n",
       "      <td>8.41</td>\n",
       "      <td>186.9</td>\n",
       "    </tr>\n",
       "  </tbody>\n",
       "</table>\n",
       "</div>"
      ],
      "text/plain": [
       "   Day_Charge  Day_Mins  Eve_Charge  Eve_Mins  Intl_Charge  Intl_Mins  \\\n",
       "0       45.07     265.1       16.78     197.4         2.70       10.0   \n",
       "1       27.47     161.6       16.62     195.5         3.70       13.7   \n",
       "2       41.38     243.4       10.30     121.2         3.29       12.2   \n",
       "3       50.90     299.4        5.26      61.9         1.78        6.6   \n",
       "4       28.34     166.7       12.61     148.3         2.73       10.1   \n",
       "\n",
       "   Night_Charge  Night_Mins  \n",
       "0         11.01       244.7  \n",
       "1         11.45       254.4  \n",
       "2          7.32       162.6  \n",
       "3          8.86       196.9  \n",
       "4          8.41       186.9  "
      ]
     },
     "execution_count": 17,
     "metadata": {},
     "output_type": "execute_result"
    }
   ],
   "source": [
    "telcoabc = telco[['Day_Charge','Day_Mins',\n",
    "                 'Eve_Charge', 'Eve_Mins',\n",
    "                 'Intl_Charge','Intl_Mins',\n",
    "                 'Night_Charge','Night_Mins']]\n",
    "telcoabc.head()"
   ]
  },
  {
   "cell_type": "code",
   "execution_count": 18,
   "id": "6760876d",
   "metadata": {},
   "outputs": [
    {
     "name": "stderr",
     "output_type": "stream",
     "text": [
      "C:\\Users\\Rahul\\AppData\\Local\\Temp/ipykernel_316/1523833703.py:1: SettingWithCopyWarning: \n",
      "A value is trying to be set on a copy of a slice from a DataFrame.\n",
      "Try using .loc[row_indexer,col_indexer] = value instead\n",
      "\n",
      "See the caveats in the documentation: https://pandas.pydata.org/pandas-docs/stable/user_guide/indexing.html#returning-a-view-versus-a-copy\n",
      "  telcoabc['Day'] = telcoabc['Day_Charge'] / telcoabc['Day_Mins']\n",
      "C:\\Users\\Rahul\\AppData\\Local\\Temp/ipykernel_316/1523833703.py:2: SettingWithCopyWarning: \n",
      "A value is trying to be set on a copy of a slice from a DataFrame.\n",
      "Try using .loc[row_indexer,col_indexer] = value instead\n",
      "\n",
      "See the caveats in the documentation: https://pandas.pydata.org/pandas-docs/stable/user_guide/indexing.html#returning-a-view-versus-a-copy\n",
      "  telcoabc['Eve'] = telcoabc['Eve_Charge'] / telcoabc['Eve_Mins']\n",
      "C:\\Users\\Rahul\\AppData\\Local\\Temp/ipykernel_316/1523833703.py:3: SettingWithCopyWarning: \n",
      "A value is trying to be set on a copy of a slice from a DataFrame.\n",
      "Try using .loc[row_indexer,col_indexer] = value instead\n",
      "\n",
      "See the caveats in the documentation: https://pandas.pydata.org/pandas-docs/stable/user_guide/indexing.html#returning-a-view-versus-a-copy\n",
      "  telcoabc['Intl'] = telcoabc['Intl_Charge'] / telcoabc['Intl_Mins']\n",
      "C:\\Users\\Rahul\\AppData\\Local\\Temp/ipykernel_316/1523833703.py:4: SettingWithCopyWarning: \n",
      "A value is trying to be set on a copy of a slice from a DataFrame.\n",
      "Try using .loc[row_indexer,col_indexer] = value instead\n",
      "\n",
      "See the caveats in the documentation: https://pandas.pydata.org/pandas-docs/stable/user_guide/indexing.html#returning-a-view-versus-a-copy\n",
      "  telcoabc['Night'] = telcoabc['Night_Charge'] / telcoabc['Night_Mins']\n"
     ]
    },
    {
     "data": {
      "text/html": [
       "<div>\n",
       "<style scoped>\n",
       "    .dataframe tbody tr th:only-of-type {\n",
       "        vertical-align: middle;\n",
       "    }\n",
       "\n",
       "    .dataframe tbody tr th {\n",
       "        vertical-align: top;\n",
       "    }\n",
       "\n",
       "    .dataframe thead th {\n",
       "        text-align: right;\n",
       "    }\n",
       "</style>\n",
       "<table border=\"1\" class=\"dataframe\">\n",
       "  <thead>\n",
       "    <tr style=\"text-align: right;\">\n",
       "      <th></th>\n",
       "      <th>Day_Charge</th>\n",
       "      <th>Day_Mins</th>\n",
       "      <th>Eve_Charge</th>\n",
       "      <th>Eve_Mins</th>\n",
       "      <th>Intl_Charge</th>\n",
       "      <th>Intl_Mins</th>\n",
       "      <th>Night_Charge</th>\n",
       "      <th>Night_Mins</th>\n",
       "      <th>Day</th>\n",
       "      <th>Eve</th>\n",
       "      <th>Intl</th>\n",
       "      <th>Night</th>\n",
       "    </tr>\n",
       "  </thead>\n",
       "  <tbody>\n",
       "    <tr>\n",
       "      <th>count</th>\n",
       "      <td>3333.000000</td>\n",
       "      <td>3333.000000</td>\n",
       "      <td>3333.000000</td>\n",
       "      <td>3333.000000</td>\n",
       "      <td>3333.000000</td>\n",
       "      <td>3333.000000</td>\n",
       "      <td>3333.000000</td>\n",
       "      <td>3333.000000</td>\n",
       "      <td>3331.000000</td>\n",
       "      <td>3332.000000</td>\n",
       "      <td>3315.000000</td>\n",
       "      <td>3333.000000</td>\n",
       "    </tr>\n",
       "    <tr>\n",
       "      <th>mean</th>\n",
       "      <td>30.562307</td>\n",
       "      <td>179.775098</td>\n",
       "      <td>17.083540</td>\n",
       "      <td>200.980348</td>\n",
       "      <td>2.764581</td>\n",
       "      <td>10.237294</td>\n",
       "      <td>9.039325</td>\n",
       "      <td>200.872037</td>\n",
       "      <td>0.170003</td>\n",
       "      <td>0.085001</td>\n",
       "      <td>0.270057</td>\n",
       "      <td>0.045000</td>\n",
       "    </tr>\n",
       "    <tr>\n",
       "      <th>std</th>\n",
       "      <td>9.259435</td>\n",
       "      <td>54.467389</td>\n",
       "      <td>4.310668</td>\n",
       "      <td>50.713844</td>\n",
       "      <td>0.753773</td>\n",
       "      <td>2.791840</td>\n",
       "      <td>2.275873</td>\n",
       "      <td>50.573847</td>\n",
       "      <td>0.000028</td>\n",
       "      <td>0.000016</td>\n",
       "      <td>0.000329</td>\n",
       "      <td>0.000017</td>\n",
       "    </tr>\n",
       "    <tr>\n",
       "      <th>min</th>\n",
       "      <td>0.000000</td>\n",
       "      <td>0.000000</td>\n",
       "      <td>0.000000</td>\n",
       "      <td>0.000000</td>\n",
       "      <td>0.000000</td>\n",
       "      <td>0.000000</td>\n",
       "      <td>1.040000</td>\n",
       "      <td>23.200000</td>\n",
       "      <td>0.169231</td>\n",
       "      <td>0.084936</td>\n",
       "      <td>0.268182</td>\n",
       "      <td>0.044828</td>\n",
       "    </tr>\n",
       "    <tr>\n",
       "      <th>25%</th>\n",
       "      <td>24.430000</td>\n",
       "      <td>143.700000</td>\n",
       "      <td>14.160000</td>\n",
       "      <td>166.600000</td>\n",
       "      <td>2.300000</td>\n",
       "      <td>8.500000</td>\n",
       "      <td>7.520000</td>\n",
       "      <td>167.000000</td>\n",
       "      <td>0.169989</td>\n",
       "      <td>0.084988</td>\n",
       "      <td>0.269811</td>\n",
       "      <td>0.044988</td>\n",
       "    </tr>\n",
       "    <tr>\n",
       "      <th>50%</th>\n",
       "      <td>30.500000</td>\n",
       "      <td>179.400000</td>\n",
       "      <td>17.120000</td>\n",
       "      <td>201.400000</td>\n",
       "      <td>2.780000</td>\n",
       "      <td>10.300000</td>\n",
       "      <td>9.050000</td>\n",
       "      <td>201.200000</td>\n",
       "      <td>0.170004</td>\n",
       "      <td>0.085000</td>\n",
       "      <td>0.270000</td>\n",
       "      <td>0.045000</td>\n",
       "    </tr>\n",
       "    <tr>\n",
       "      <th>75%</th>\n",
       "      <td>36.790000</td>\n",
       "      <td>216.400000</td>\n",
       "      <td>20.000000</td>\n",
       "      <td>235.300000</td>\n",
       "      <td>3.270000</td>\n",
       "      <td>12.100000</td>\n",
       "      <td>10.590000</td>\n",
       "      <td>235.300000</td>\n",
       "      <td>0.170017</td>\n",
       "      <td>0.085013</td>\n",
       "      <td>0.270297</td>\n",
       "      <td>0.045013</td>\n",
       "    </tr>\n",
       "    <tr>\n",
       "      <th>max</th>\n",
       "      <td>59.640000</td>\n",
       "      <td>350.800000</td>\n",
       "      <td>30.910000</td>\n",
       "      <td>363.700000</td>\n",
       "      <td>5.400000</td>\n",
       "      <td>20.000000</td>\n",
       "      <td>17.770000</td>\n",
       "      <td>395.000000</td>\n",
       "      <td>0.170513</td>\n",
       "      <td>0.085075</td>\n",
       "      <td>0.272727</td>\n",
       "      <td>0.045111</td>\n",
       "    </tr>\n",
       "  </tbody>\n",
       "</table>\n",
       "</div>"
      ],
      "text/plain": [
       "        Day_Charge     Day_Mins   Eve_Charge     Eve_Mins  Intl_Charge  \\\n",
       "count  3333.000000  3333.000000  3333.000000  3333.000000  3333.000000   \n",
       "mean     30.562307   179.775098    17.083540   200.980348     2.764581   \n",
       "std       9.259435    54.467389     4.310668    50.713844     0.753773   \n",
       "min       0.000000     0.000000     0.000000     0.000000     0.000000   \n",
       "25%      24.430000   143.700000    14.160000   166.600000     2.300000   \n",
       "50%      30.500000   179.400000    17.120000   201.400000     2.780000   \n",
       "75%      36.790000   216.400000    20.000000   235.300000     3.270000   \n",
       "max      59.640000   350.800000    30.910000   363.700000     5.400000   \n",
       "\n",
       "         Intl_Mins  Night_Charge   Night_Mins          Day          Eve  \\\n",
       "count  3333.000000   3333.000000  3333.000000  3331.000000  3332.000000   \n",
       "mean     10.237294      9.039325   200.872037     0.170003     0.085001   \n",
       "std       2.791840      2.275873    50.573847     0.000028     0.000016   \n",
       "min       0.000000      1.040000    23.200000     0.169231     0.084936   \n",
       "25%       8.500000      7.520000   167.000000     0.169989     0.084988   \n",
       "50%      10.300000      9.050000   201.200000     0.170004     0.085000   \n",
       "75%      12.100000     10.590000   235.300000     0.170017     0.085013   \n",
       "max      20.000000     17.770000   395.000000     0.170513     0.085075   \n",
       "\n",
       "              Intl        Night  \n",
       "count  3315.000000  3333.000000  \n",
       "mean      0.270057     0.045000  \n",
       "std       0.000329     0.000017  \n",
       "min       0.268182     0.044828  \n",
       "25%       0.269811     0.044988  \n",
       "50%       0.270000     0.045000  \n",
       "75%       0.270297     0.045013  \n",
       "max       0.272727     0.045111  "
      ]
     },
     "execution_count": 18,
     "metadata": {},
     "output_type": "execute_result"
    }
   ],
   "source": [
    "telcoabc['Day'] = telcoabc['Day_Charge'] / telcoabc['Day_Mins']\n",
    "telcoabc['Eve'] = telcoabc['Eve_Charge'] / telcoabc['Eve_Mins']\n",
    "telcoabc['Intl'] = telcoabc['Intl_Charge'] / telcoabc['Intl_Mins']\n",
    "telcoabc['Night'] = telcoabc['Night_Charge'] / telcoabc['Night_Mins']\n",
    "\n",
    "telcoabc.describe()"
   ]
  },
  {
   "cell_type": "markdown",
   "id": "b19558a1",
   "metadata": {},
   "source": [
    "- Biaya telpon setiap pergantian waktu berubah drastis\n",
    "- Biaya 1 waktu  harganya tidak teralu berbeda"
   ]
  },
  {
   "cell_type": "code",
   "execution_count": 19,
   "id": "96fc5421",
   "metadata": {},
   "outputs": [
    {
     "data": {
      "text/html": [
       "<div>\n",
       "<style scoped>\n",
       "    .dataframe tbody tr th:only-of-type {\n",
       "        vertical-align: middle;\n",
       "    }\n",
       "\n",
       "    .dataframe tbody tr th {\n",
       "        vertical-align: top;\n",
       "    }\n",
       "\n",
       "    .dataframe thead th {\n",
       "        text-align: right;\n",
       "    }\n",
       "</style>\n",
       "<table border=\"1\" class=\"dataframe\">\n",
       "  <thead>\n",
       "    <tr style=\"text-align: right;\">\n",
       "      <th></th>\n",
       "      <th>Account_Length</th>\n",
       "      <th>Vmail_Message</th>\n",
       "      <th>CustServ_Calls</th>\n",
       "      <th>Churn</th>\n",
       "      <th>Intl_Plan</th>\n",
       "      <th>Day_Calls</th>\n",
       "      <th>Day_Charge</th>\n",
       "      <th>Eve_Calls</th>\n",
       "      <th>Eve_Charge</th>\n",
       "      <th>Night_Calls</th>\n",
       "      <th>Night_Charge</th>\n",
       "      <th>Intl_Calls</th>\n",
       "      <th>Intl_Charge</th>\n",
       "    </tr>\n",
       "  </thead>\n",
       "  <tbody>\n",
       "    <tr>\n",
       "      <th>0</th>\n",
       "      <td>128</td>\n",
       "      <td>25</td>\n",
       "      <td>1</td>\n",
       "      <td>0</td>\n",
       "      <td>0</td>\n",
       "      <td>110</td>\n",
       "      <td>45.07</td>\n",
       "      <td>99</td>\n",
       "      <td>16.78</td>\n",
       "      <td>91</td>\n",
       "      <td>11.01</td>\n",
       "      <td>3</td>\n",
       "      <td>2.70</td>\n",
       "    </tr>\n",
       "    <tr>\n",
       "      <th>1</th>\n",
       "      <td>107</td>\n",
       "      <td>26</td>\n",
       "      <td>1</td>\n",
       "      <td>0</td>\n",
       "      <td>0</td>\n",
       "      <td>123</td>\n",
       "      <td>27.47</td>\n",
       "      <td>103</td>\n",
       "      <td>16.62</td>\n",
       "      <td>103</td>\n",
       "      <td>11.45</td>\n",
       "      <td>3</td>\n",
       "      <td>3.70</td>\n",
       "    </tr>\n",
       "    <tr>\n",
       "      <th>2</th>\n",
       "      <td>137</td>\n",
       "      <td>0</td>\n",
       "      <td>0</td>\n",
       "      <td>0</td>\n",
       "      <td>0</td>\n",
       "      <td>114</td>\n",
       "      <td>41.38</td>\n",
       "      <td>110</td>\n",
       "      <td>10.30</td>\n",
       "      <td>104</td>\n",
       "      <td>7.32</td>\n",
       "      <td>5</td>\n",
       "      <td>3.29</td>\n",
       "    </tr>\n",
       "    <tr>\n",
       "      <th>3</th>\n",
       "      <td>84</td>\n",
       "      <td>0</td>\n",
       "      <td>2</td>\n",
       "      <td>0</td>\n",
       "      <td>1</td>\n",
       "      <td>71</td>\n",
       "      <td>50.90</td>\n",
       "      <td>88</td>\n",
       "      <td>5.26</td>\n",
       "      <td>89</td>\n",
       "      <td>8.86</td>\n",
       "      <td>7</td>\n",
       "      <td>1.78</td>\n",
       "    </tr>\n",
       "    <tr>\n",
       "      <th>4</th>\n",
       "      <td>75</td>\n",
       "      <td>0</td>\n",
       "      <td>3</td>\n",
       "      <td>0</td>\n",
       "      <td>1</td>\n",
       "      <td>113</td>\n",
       "      <td>28.34</td>\n",
       "      <td>122</td>\n",
       "      <td>12.61</td>\n",
       "      <td>121</td>\n",
       "      <td>8.41</td>\n",
       "      <td>3</td>\n",
       "      <td>2.73</td>\n",
       "    </tr>\n",
       "  </tbody>\n",
       "</table>\n",
       "</div>"
      ],
      "text/plain": [
       "   Account_Length  Vmail_Message  CustServ_Calls  Churn  Intl_Plan  Day_Calls  \\\n",
       "0             128             25               1      0          0        110   \n",
       "1             107             26               1      0          0        123   \n",
       "2             137              0               0      0          0        114   \n",
       "3              84              0               2      0          1         71   \n",
       "4              75              0               3      0          1        113   \n",
       "\n",
       "   Day_Charge  Eve_Calls  Eve_Charge  Night_Calls  Night_Charge  Intl_Calls  \\\n",
       "0       45.07         99       16.78           91         11.01           3   \n",
       "1       27.47        103       16.62          103         11.45           3   \n",
       "2       41.38        110       10.30          104          7.32           5   \n",
       "3       50.90         88        5.26           89          8.86           7   \n",
       "4       28.34        122       12.61          121          8.41           3   \n",
       "\n",
       "   Intl_Charge  \n",
       "0         2.70  \n",
       "1         3.70  \n",
       "2         3.29  \n",
       "3         1.78  \n",
       "4         2.73  "
      ]
     },
     "execution_count": 19,
     "metadata": {},
     "output_type": "execute_result"
    }
   ],
   "source": [
    "# Drop the unnecessary features\n",
    "telco = telco.drop(['Area_Code', 'State', 'Phone'], axis=1)\n",
    "# saya juga drop Kolom menit telepon karena itu sudah mewakili kolom harga\n",
    "telco = telco.drop(['Day_Mins', 'Eve_Mins', 'Intl_Mins','Night_Mins'], axis=1)\n",
    "# Terakhir saya drop kolom Vmail_Plan karena ini sudah mewakili Vmail_Message yang dilakukan\n",
    "telco = telco.drop(['Vmail_Plan'], axis=1)\n",
    "telco.head()"
   ]
  },
  {
   "cell_type": "code",
   "execution_count": 20,
   "id": "84dd0e02",
   "metadata": {},
   "outputs": [
    {
     "data": {
      "text/plain": [
       "(3333, 13)"
      ]
     },
     "execution_count": 20,
     "metadata": {},
     "output_type": "execute_result"
    }
   ],
   "source": [
    "telco.shape"
   ]
  },
  {
   "cell_type": "markdown",
   "id": "0b087b8d",
   "metadata": {},
   "source": [
    "# 3.  Machine learning Models\n",
    "Goal: Predict whether or not a customer will churn\n",
    "\n",
    "Target Variable: 'Churn'"
   ]
  },
  {
   "cell_type": "markdown",
   "id": "c1d8438a",
   "metadata": {},
   "source": [
    "## 3.1 training and test sets"
   ]
  },
  {
   "cell_type": "code",
   "execution_count": 21,
   "id": "3ae67a15",
   "metadata": {},
   "outputs": [],
   "source": [
    "# Import train_test_split\n",
    "from sklearn.model_selection import train_test_split\n",
    "# Create feature and target variable\n",
    "X = telco.drop('Churn', axis=1)\n",
    "y = telco['Churn']\n",
    "# Create training and testing sets\n",
    "X_train, X_test, y_train, y_test = train_test_split(X, y, test_size=0.2, random_state=42 )"
   ]
  },
  {
   "cell_type": "markdown",
   "id": "f0354acd",
   "metadata": {},
   "source": [
    "## 3.2 Modeling"
   ]
  },
  {
   "cell_type": "code",
   "execution_count": 22,
   "id": "485f829a",
   "metadata": {},
   "outputs": [
    {
     "data": {
      "text/plain": [
       "RandomForestClassifier()"
      ]
     },
     "execution_count": 22,
     "metadata": {},
     "output_type": "execute_result"
    }
   ],
   "source": [
    "from sklearn.ensemble import RandomForestClassifier\n",
    "# Instantiate the classifier\n",
    "clf = RandomForestClassifier()\n",
    "# Fit to the training data\n",
    "clf.fit(X_train, y_train)"
   ]
  },
  {
   "cell_type": "markdown",
   "id": "0bf57f9b",
   "metadata": {},
   "source": [
    "## 3.3 Prediksi"
   ]
  },
  {
   "cell_type": "code",
   "execution_count": 23,
   "id": "c943484e",
   "metadata": {},
   "outputs": [],
   "source": [
    "# Predict the labels of the test set\n",
    "y_pred = clf.predict(X_test)"
   ]
  },
  {
   "cell_type": "markdown",
   "id": "8d25e7bd",
   "metadata": {},
   "source": [
    "## 3.4 Evaluasi Model"
   ]
  },
  {
   "cell_type": "markdown",
   "id": "aa43162c",
   "metadata": {},
   "source": [
    "### 3.4.1 confusion_matrix"
   ]
  },
  {
   "cell_type": "code",
   "execution_count": 24,
   "id": "cf56b115",
   "metadata": {},
   "outputs": [
    {
     "data": {
      "image/png": "[encoded data removed]",
      "text/plain": [
       "<Figure size 360x216 with 2 Axes>"
      ]
     },
     "metadata": {
      "needs_background": "light"
     },
     "output_type": "display_data"
    }
   ],
   "source": [
    "from sklearn.metrics import confusion_matrix\n",
    "#confusion_matrix(y_test, y_pred) \n",
    "f, ax = plt.subplots(figsize=(5,3))\n",
    "sns.heatmap(confusion_matrix(y_test, y_pred), annot=True, fmt=\".0f\", ax=ax)\n",
    "plt.xlabel(\"y_head\")\n",
    "plt.ylabel(\"y_true\")\n",
    "plt.show()"
   ]
  },
  {
   "cell_type": "markdown",
   "id": "a97fac0a",
   "metadata": {},
   "source": [
    "### 3.4.2 classification_report"
   ]
  },
  {
   "cell_type": "code",
   "execution_count": 25,
   "id": "32d2962f",
   "metadata": {},
   "outputs": [
    {
     "name": "stdout",
     "output_type": "stream",
     "text": [
      "              precision    recall  f1-score   support\n",
      "\n",
      "           0       0.94      0.99      0.97       566\n",
      "           1       0.94      0.64      0.76       101\n",
      "\n",
      "    accuracy                           0.94       667\n",
      "   macro avg       0.94      0.82      0.87       667\n",
      "weighted avg       0.94      0.94      0.94       667\n",
      "\n"
     ]
    }
   ],
   "source": [
    "from sklearn.metrics import classification_report\n",
    "print(classification_report(y_test, y_pred))"
   ]
  },
  {
   "cell_type": "code",
   "execution_count": 26,
   "id": "435dbabf",
   "metadata": {},
   "outputs": [
    {
     "data": {
      "text/plain": [
       "0.9400299850074962"
      ]
     },
     "execution_count": 26,
     "metadata": {},
     "output_type": "execute_result"
    }
   ],
   "source": [
    "from sklearn.metrics import accuracy_score \n",
    "accuracy_score(y_pred, y_test)"
   ]
  },
  {
   "cell_type": "markdown",
   "id": "efdefbcb",
   "metadata": {},
   "source": [
    "###  3.4.3 Roc Curve"
   ]
  },
  {
   "cell_type": "code",
   "execution_count": 27,
   "id": "936b581d",
   "metadata": {},
   "outputs": [
    {
     "data": {
      "image/png": "[encoded data removed]",
      "text/plain": [
       "<Figure size 432x288 with 1 Axes>"
      ]
     },
     "metadata": {
      "needs_background": "light"
     },
     "output_type": "display_data"
    }
   ],
   "source": [
    "# Generate the probabilities\n",
    "y_pred_prob = clf.predict_proba(X_test)[:, 1]\n",
    "# Import roc_curve From sklearn.metrics\n",
    "from sklearn.metrics import roc_curve\n",
    "# Calculate the roc metrics\n",
    "fpr, tpr, thresholds = roc_curve(y_test, y_pred_prob)\n",
    "# Plot the ROC curve\n",
    "import matplotlib.pyplot as plt\n",
    "plt.plot(fpr, tpr)\n",
    "# Add labels and diagonal line\n",
    "plt.xlabel(\"False Positive Rate\")\n",
    "plt.ylabel(\"True Positive Rate\")\n",
    "plt.plot([0, 1], [0, 1], \"k--\")\n",
    "plt.show()"
   ]
  },
  {
   "cell_type": "markdown",
   "id": "608a2322",
   "metadata": {},
   "source": [
    "### 3.4.4 F1 score"
   ]
  },
  {
   "cell_type": "code",
   "execution_count": 28,
   "id": "39f44bb8",
   "metadata": {},
   "outputs": [
    {
     "name": "stdout",
     "output_type": "stream",
     "text": [
      "0.7647058823529412\n"
     ]
    }
   ],
   "source": [
    "# Import f1_score\n",
    "from sklearn.metrics import f1_score\n",
    "# Print the F1 score\n",
    "print(f1_score(y_test, y_pred))"
   ]
  },
  {
   "cell_type": "markdown",
   "id": "a656e6f7",
   "metadata": {},
   "source": [
    "# 4. Model Tuning\n",
    "Model yang telah dibuat sejauh ini menggunakan hyperparameter default, dan sekarang saya akan belajar menyetelnya. Salah satu cara paling efektif untuk melakukan ini adalah teknik hyperparameter tuning yang dikenal sebagai grid-search cross-validation.\n",
    "\n",
    "Sumber belajar: https://www.youtube.com/watch?v=K28l_zGH6M0"
   ]
  },
  {
   "cell_type": "markdown",
   "id": "0fe2fbc0",
   "metadata": {},
   "source": [
    "## 4.1 hyperparameter grid"
   ]
  },
  {
   "cell_type": "code",
   "execution_count": 29,
   "id": "3b94c3bc",
   "metadata": {},
   "outputs": [],
   "source": [
    "# Import GridSearchCV\n",
    "from sklearn.model_selection import GridSearchCV\n",
    "\n",
    "# Create the hyperparameter grid\n",
    "param_grid = {\"max_depth\": [3, None], #Max depth of tree\n",
    "              #\"max_features\": [1, 3, 10], #Number of features for best split\n",
    "              \"bootstrap\": [True, False],       # Whether Bootstrap samples are used\n",
    "              \"criterion\": [\"gini\", \"entropy\"]} # Quality of Split"
   ]
  },
  {
   "cell_type": "markdown",
   "id": "db06d4af",
   "metadata": {},
   "source": [
    "## 4.2 Modeling"
   ]
  },
  {
   "cell_type": "code",
   "execution_count": 30,
   "id": "5a01426b",
   "metadata": {},
   "outputs": [
    {
     "data": {
      "text/plain": [
       "GridSearchCV(estimator=RandomForestClassifier(),\n",
       "             param_grid={'bootstrap': [True, False],\n",
       "                         'criterion': ['gini', 'entropy'],\n",
       "                         'max_depth': [3, None]})"
      ]
     },
     "execution_count": 30,
     "metadata": {},
     "output_type": "execute_result"
    }
   ],
   "source": [
    "clf2 = RandomForestClassifier()\n",
    "# Call GridSearchCV\n",
    "grid_search = GridSearchCV(estimator=clf2, param_grid=param_grid)\n",
    "# Fit the model\n",
    "grid_search.fit(X_train, y_train)"
   ]
  },
  {
   "cell_type": "markdown",
   "id": "dd270e8d",
   "metadata": {},
   "source": [
    "## 4.3 Best parameters"
   ]
  },
  {
   "cell_type": "code",
   "execution_count": 31,
   "id": "d3842de2",
   "metadata": {},
   "outputs": [
    {
     "name": "stdout",
     "output_type": "stream",
     "text": [
      "The Best parameters {'bootstrap': False, 'criterion': 'gini', 'max_depth': None} with a score of 0.949\n"
     ]
    }
   ],
   "source": [
    "# Print the optimal parameters\n",
    "print(\"The Best parameters %s with a score of %0.3f\"\n",
    "      % (grid_search.best_params_, grid_search.best_score_))"
   ]
  },
  {
   "cell_type": "markdown",
   "id": "8930f80d",
   "metadata": {},
   "source": [
    "## 4.4 Prediksi"
   ]
  },
  {
   "cell_type": "code",
   "execution_count": 32,
   "id": "3f05e75f",
   "metadata": {},
   "outputs": [],
   "source": [
    "# Predict the labels of the test set\n",
    "y_pred2 = grid_search.predict(X_test)"
   ]
  },
  {
   "cell_type": "markdown",
   "id": "a92e5a66",
   "metadata": {},
   "source": [
    "## 4.5 Evaluasi Model"
   ]
  },
  {
   "cell_type": "markdown",
   "id": "f5886513",
   "metadata": {},
   "source": [
    "### 4.5.1 confusion_matrix"
   ]
  },
  {
   "cell_type": "code",
   "execution_count": 33,
   "id": "70dcfd66",
   "metadata": {},
   "outputs": [
    {
     "data": {
      "image/png": "[encoded data removed]",
      "text/plain": [
       "<Figure size 360x216 with 2 Axes>"
      ]
     },
     "metadata": {
      "needs_background": "light"
     },
     "output_type": "display_data"
    }
   ],
   "source": [
    "from sklearn.metrics import confusion_matrix\n",
    "f, ax = plt.subplots(figsize=(5,3))\n",
    "sns.heatmap(confusion_matrix(y_test, y_pred2), annot=True, fmt=\".0f\", ax=ax)\n",
    "plt.xlabel(\"y_head\")\n",
    "plt.ylabel(\"y_true\")\n",
    "plt.show()"
   ]
  },
  {
   "cell_type": "code",
   "execution_count": 38,
   "id": "50247e96",
   "metadata": {},
   "outputs": [
    {
     "data": {
      "text/plain": [
       "0.9430284857571214"
      ]
     },
     "execution_count": 38,
     "metadata": {},
     "output_type": "execute_result"
    }
   ],
   "source": [
    "from sklearn.metrics import accuracy_score \n",
    "accuracy_score(y_pred2, y_test)"
   ]
  },
  {
   "cell_type": "markdown",
   "id": "c60df522",
   "metadata": {},
   "source": [
    "### 4.5.2 classification_report"
   ]
  },
  {
   "cell_type": "code",
   "execution_count": 34,
   "id": "d82a5f48",
   "metadata": {},
   "outputs": [
    {
     "name": "stdout",
     "output_type": "stream",
     "text": [
      "              precision    recall  f1-score   support\n",
      "\n",
      "           0       0.95      0.99      0.97       566\n",
      "           1       0.92      0.68      0.78       101\n",
      "\n",
      "    accuracy                           0.94       667\n",
      "   macro avg       0.93      0.84      0.88       667\n",
      "weighted avg       0.94      0.94      0.94       667\n",
      "\n"
     ]
    }
   ],
   "source": [
    "from sklearn.metrics import classification_report\n",
    "print(classification_report(y_test, y_pred2))"
   ]
  },
  {
   "cell_type": "markdown",
   "id": "41c1676a",
   "metadata": {},
   "source": [
    "### 4.5.3 Roc Curve"
   ]
  },
  {
   "cell_type": "code",
   "execution_count": 35,
   "id": "f5891351",
   "metadata": {},
   "outputs": [
    {
     "data": {
      "image/png": "[encoded data removed]",
      "text/plain": [
       "<Figure size 432x288 with 1 Axes>"
      ]
     },
     "metadata": {
      "needs_background": "light"
     },
     "output_type": "display_data"
    }
   ],
   "source": [
    "# Generate the probabilities\n",
    "y_pred_prob2 = grid_search.predict_proba(X_test)[:, 1]\n",
    "# Import roc_curve From sklearn.metrics\n",
    "from sklearn.metrics import roc_curve\n",
    "# Calculate the roc metrics\n",
    "fpr, tpr, thresholds = roc_curve(y_test, y_pred_prob2)\n",
    "# Plot the ROC curve\n",
    "import matplotlib.pyplot as plt\n",
    "plt.plot(fpr, tpr)\n",
    "# Add labels and diagonal line\n",
    "plt.xlabel(\"False Positive Rate\")\n",
    "plt.ylabel(\"True Positive Rate\")\n",
    "plt.plot([0, 1], [0, 1], \"k--\")\n",
    "plt.show()"
   ]
  },
  {
   "cell_type": "markdown",
   "id": "0bd377a2",
   "metadata": {},
   "source": [
    "### 4.5.4 F1 score"
   ]
  },
  {
   "cell_type": "code",
   "execution_count": 36,
   "id": "a5986fd9",
   "metadata": {},
   "outputs": [
    {
     "name": "stdout",
     "output_type": "stream",
     "text": [
      "0.7840909090909092\n"
     ]
    }
   ],
   "source": [
    "# Import f1_score\n",
    "from sklearn.metrics import f1_score\n",
    "# Print the F1 score\n",
    "print(f1_score(y_test, y_pred2))"
   ]
  },
  {
   "cell_type": "markdown",
   "id": "5fb29f9f",
   "metadata": {},
   "source": [
    "## 4.6 feature importances"
   ]
  },
  {
   "cell_type": "code",
   "execution_count": 37,
   "id": "9275f7d9",
   "metadata": {},
   "outputs": [
    {
     "data": {
      "image/png": "[encoded data removed]",
      "text/plain": [
       "<Figure size 432x288 with 1 Axes>"
      ]
     },
     "metadata": {
      "needs_background": "light"
     },
     "output_type": "display_data"
    }
   ],
   "source": [
    "# Calculate feature importances\n",
    "importances = clf.feature_importances_\n",
    "# Sort importances\n",
    "sorted_index = np.argsort(importances)\n",
    "# Create labels\n",
    "labels = X.columns[sorted_index]\n",
    "# Clear current plot\n",
    "plt.clf()\n",
    "# Create plot\n",
    "plt.barh(range(X.shape[1]), importances[sorted_index], tick_label=labels)\n",
    "plt.show()"
   ]
  }
 ],
 "metadata": {
  "kernelspec": {
   "display_name": "Python 3 (ipykernel)",
   "language": "python",
   "name": "python3"
  },
  "language_info": {
   "codemirror_mode": {
    "name": "ipython",
    "version": 3
   },
   "file_extension": ".py",
   "mimetype": "text/x-python",
   "name": "python",
   "nbconvert_exporter": "python",
   "pygments_lexer": "ipython3",
   "version": "3.9.7"
  }
 },
 "nbformat": 4,
 "nbformat_minor": 5
}
